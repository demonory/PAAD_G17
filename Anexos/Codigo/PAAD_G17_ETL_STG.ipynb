{
 "cells": [
  {
   "cell_type": "markdown",
   "id": "a83c6c55-478c-48e8-8bc2-fd4258aca4fa",
   "metadata": {},
   "source": [
    "**ETL Creacion Staging**"
   ]
  },
  {
   "cell_type": "markdown",
   "id": "8ad6a7cb-c284-4f88-a6e1-e78127236a94",
   "metadata": {},
   "source": [
    "***1. Creación stg_baq_compras***"
   ]
  },
  {
   "cell_type": "code",
   "execution_count": 1,
   "id": "eba31841-c8d0-4693-aaa0-c96dfb9847d4",
   "metadata": {},
   "outputs": [],
   "source": [
    "#pip install mysql-connector-python"
   ]
  },
  {
   "cell_type": "code",
   "execution_count": 2,
   "id": "53199d3f-aeb3-4a3d-a828-8cdd8ec3aedf",
   "metadata": {},
   "outputs": [],
   "source": [
    "import requests\n",
    "import pandas as pd\n",
    "from sqlalchemy import create_engine, text\n",
    "from sqlalchemy.exc import SQLAlchemyError"
   ]
  },
  {
   "cell_type": "code",
   "execution_count": 3,
   "id": "cb00ece0-ca45-44a6-8364-010f72377baf",
   "metadata": {},
   "outputs": [
    {
     "data": {
      "text/html": [
       "<div>\n",
       "<style scoped>\n",
       "    .dataframe tbody tr th:only-of-type {\n",
       "        vertical-align: middle;\n",
       "    }\n",
       "\n",
       "    .dataframe tbody tr th {\n",
       "        vertical-align: top;\n",
       "    }\n",
       "\n",
       "    .dataframe thead th {\n",
       "        text-align: right;\n",
       "    }\n",
       "</style>\n",
       "<table border=\"1\" class=\"dataframe\">\n",
       "  <thead>\n",
       "    <tr style=\"text-align: right;\">\n",
       "      <th></th>\n",
       "      <th>warehouse_code</th>\n",
       "      <th>region_code</th>\n",
       "      <th>id</th>\n",
       "      <th>delivery_date</th>\n",
       "      <th>product_id</th>\n",
       "      <th>sku</th>\n",
       "      <th>name</th>\n",
       "      <th>supplier_id</th>\n",
       "      <th>price</th>\n",
       "      <th>quantity</th>\n",
       "    </tr>\n",
       "  </thead>\n",
       "  <tbody>\n",
       "    <tr>\n",
       "      <th>0</th>\n",
       "      <td>BAQ</td>\n",
       "      <td>BAQ</td>\n",
       "      <td>8475266</td>\n",
       "      <td>9/8/2022</td>\n",
       "      <td>660</td>\n",
       "      <td>BAQ-FRU1-CAT1-111:277:659:660</td>\n",
       "      <td>Granadilla Estándar - Kg</td>\n",
       "      <td>61</td>\n",
       "      <td>5950.0</td>\n",
       "      <td>5.0</td>\n",
       "    </tr>\n",
       "    <tr>\n",
       "      <th>1</th>\n",
       "      <td>BAQ</td>\n",
       "      <td>BAQ</td>\n",
       "      <td>8554498</td>\n",
       "      <td>9/12/2022</td>\n",
       "      <td>660</td>\n",
       "      <td>BAQ-FRU1-CAT1-111:277:659:660</td>\n",
       "      <td>Granadilla Estándar - Kg</td>\n",
       "      <td>61</td>\n",
       "      <td>5950.0</td>\n",
       "      <td>8.0</td>\n",
       "    </tr>\n",
       "    <tr>\n",
       "      <th>2</th>\n",
       "      <td>BAQ</td>\n",
       "      <td>BAQ</td>\n",
       "      <td>8682054</td>\n",
       "      <td>9/19/2022</td>\n",
       "      <td>660</td>\n",
       "      <td>BAQ-FRU1-CAT1-111:277:659:660</td>\n",
       "      <td>Granadilla Estándar - Kg</td>\n",
       "      <td>61</td>\n",
       "      <td>7500.0</td>\n",
       "      <td>2.0</td>\n",
       "    </tr>\n",
       "    <tr>\n",
       "      <th>3</th>\n",
       "      <td>BAQ</td>\n",
       "      <td>BAQ</td>\n",
       "      <td>8715673</td>\n",
       "      <td>9/22/2022</td>\n",
       "      <td>660</td>\n",
       "      <td>BAQ-FRU1-CAT1-111:277:659:660</td>\n",
       "      <td>Granadilla Estándar - Kg</td>\n",
       "      <td>19</td>\n",
       "      <td>9000.0</td>\n",
       "      <td>6.0</td>\n",
       "    </tr>\n",
       "    <tr>\n",
       "      <th>4</th>\n",
       "      <td>BAQ</td>\n",
       "      <td>BAQ</td>\n",
       "      <td>8842178</td>\n",
       "      <td>9/29/2022</td>\n",
       "      <td>660</td>\n",
       "      <td>BAQ-FRU1-CAT1-111:277:659:660</td>\n",
       "      <td>Granadilla Estándar - Kg</td>\n",
       "      <td>61</td>\n",
       "      <td>7200.0</td>\n",
       "      <td>3.0</td>\n",
       "    </tr>\n",
       "  </tbody>\n",
       "</table>\n",
       "</div>"
      ],
      "text/plain": [
       "  warehouse_code region_code       id delivery_date  product_id  \\\n",
       "0            BAQ         BAQ  8475266      9/8/2022         660   \n",
       "1            BAQ         BAQ  8554498     9/12/2022         660   \n",
       "2            BAQ         BAQ  8682054     9/19/2022         660   \n",
       "3            BAQ         BAQ  8715673     9/22/2022         660   \n",
       "4            BAQ         BAQ  8842178     9/29/2022         660   \n",
       "\n",
       "                             sku                      name  supplier_id  \\\n",
       "0  BAQ-FRU1-CAT1-111:277:659:660  Granadilla Estándar - Kg           61   \n",
       "1  BAQ-FRU1-CAT1-111:277:659:660  Granadilla Estándar - Kg           61   \n",
       "2  BAQ-FRU1-CAT1-111:277:659:660  Granadilla Estándar - Kg           61   \n",
       "3  BAQ-FRU1-CAT1-111:277:659:660  Granadilla Estándar - Kg           19   \n",
       "4  BAQ-FRU1-CAT1-111:277:659:660  Granadilla Estándar - Kg           61   \n",
       "\n",
       "    price  quantity  \n",
       "0  5950.0       5.0  \n",
       "1  5950.0       8.0  \n",
       "2  7500.0       2.0  \n",
       "3  9000.0       6.0  \n",
       "4  7200.0       3.0  "
      ]
     },
     "execution_count": 3,
     "metadata": {},
     "output_type": "execute_result"
    }
   ],
   "source": [
    "# URL del archivo en GitHub\n",
    "url = 'https://github.com/demonory/PAAD_G17/raw/main/Fuentes/BAQ_compras.csv'\n",
    "\n",
    "# Descargar el archivo\n",
    "response = requests.get(url)\n",
    "with open('BAQ_compras.csv', 'wb') as file:\n",
    "    file.write(response.content)\n",
    "\n",
    "# Leer el archivo CSV\n",
    "df = pd.read_csv('BAQ_compras.csv')\n",
    "df.head()\n"
   ]
  },
  {
   "cell_type": "code",
   "execution_count": 4,
   "id": "7dd50a42-9156-4bc3-9f54-802ef2f27a4a",
   "metadata": {},
   "outputs": [
    {
     "name": "stdout",
     "output_type": "stream",
     "text": [
      "Esquema 'paad_g17' ya existe.\n"
     ]
    }
   ],
   "source": [
    "# Configuración de la conexión a la base de datos\n",
    "user = 'dmonroy3'\n",
    "password = 'SamuelAlejo2020%'\n",
    "host = 'localhost'\n",
    "database = 'paad_g17'\n",
    "schema = 'paad_g17'\n",
    "table_name = 'stg_baq_compras'\n",
    "\n",
    "# Crear la conexión\n",
    "engine = create_engine(f'mysql+mysqlconnector://{user}:{password}@{host}/{database}')\n",
    "\n",
    "# Verificar y crear el esquema si no existe\n",
    "try:\n",
    "    with engine.connect() as connection:\n",
    "        # Verificar si el esquema existe\n",
    "        result = connection.execute(text(f\"SELECT SCHEMA_NAME FROM information_schema.SCHEMATA WHERE SCHEMA_NAME = '{schema}'\"))\n",
    "        schema_exists = result.fetchone()\n",
    "\n",
    "        if not schema_exists:\n",
    "            # Si el esquema no existe, crearlo\n",
    "            connection.execute(text(f\"CREATE SCHEMA {schema}\"))\n",
    "            print(f\"Esquema '{schema}' creado correctamente.\")\n",
    "        else:\n",
    "            print(f\"Esquema '{schema}' ya existe.\")\n",
    "\n",
    "except SQLAlchemyError as e:\n",
    "    print(f\"Error al conectar a la base de datos o crear el esquema: {e}\")"
   ]
  },
  {
   "cell_type": "code",
   "execution_count": 5,
   "id": "bf1428e6-2c56-445f-b712-e4b3aa265be9",
   "metadata": {},
   "outputs": [
    {
     "name": "stdout",
     "output_type": "stream",
     "text": [
      "Tabla borrada correctamente, si existía.\n"
     ]
    }
   ],
   "source": [
    "# Borrar la tabla si existe\n",
    "try:\n",
    "    with engine.connect() as connection:\n",
    "        connection.execute(text(f\"DROP TABLE IF EXISTS {table_name}\"))\n",
    "    print(\"Tabla borrada correctamente, si existía.\")\n",
    "except SQLAlchemyError as e:\n",
    "    print(f\"Error al borrar la tabla: {e}\")"
   ]
  },
  {
   "cell_type": "code",
   "execution_count": 6,
   "id": "ca89c7c5-668d-4126-a9d4-9484d6c6de27",
   "metadata": {},
   "outputs": [],
   "source": [
    "def map_dtype_to_mysql(dtype):\n",
    "    return 'VARCHAR(255)'"
   ]
  },
  {
   "cell_type": "code",
   "execution_count": 7,
   "id": "8277c1cc-5dc9-45a5-bb46-6fb0316ef2c2",
   "metadata": {},
   "outputs": [
    {
     "name": "stdout",
     "output_type": "stream",
     "text": [
      "Tabla creada correctamente.\n"
     ]
    }
   ],
   "source": [
    "# Obtener los tipos de datos adecuados para cada columna del DataFrame\n",
    "column_types = {column: map_dtype_to_mysql(dtype) for column, dtype in df.dtypes.items()}\n",
    "\n",
    "# Crear la consulta CREATE TABLE utilizando los tipos de datos adecuados\n",
    "create_table_query = f\"CREATE TABLE {table_name} (\"\n",
    "for column, column_type in column_types.items():\n",
    "    create_table_query += f\"\\n{column} {column_type},\"\n",
    "create_table_query = create_table_query.rstrip(',') + \"\\n)\"\n",
    "\n",
    "# Ejecutar la consulta para crear la tabla\n",
    "try:\n",
    "    with engine.connect() as connection:\n",
    "        connection.execute(text(create_table_query))\n",
    "    print(\"Tabla creada correctamente.\")\n",
    "except SQLAlchemyError as e:\n",
    "    print(f\"Error al crear la tabla: {e}\")"
   ]
  },
  {
   "cell_type": "code",
   "execution_count": 8,
   "id": "59401814-6ca3-40ec-bce6-1ebc61024595",
   "metadata": {},
   "outputs": [
    {
     "name": "stdout",
     "output_type": "stream",
     "text": [
      "5103 datos insertados correctamente.\n"
     ]
    }
   ],
   "source": [
    "# Ahora, insertar los datos en la tabla\n",
    "try:\n",
    "    num_rows_inserted = df.shape[0]  # Obtener el número de filas en el DataFrame\n",
    "    df.to_sql(table_name, con=engine, if_exists='append', index=False)\n",
    "    print(f\"{num_rows_inserted} datos insertados correctamente.\")\n",
    "except SQLAlchemyError as e:\n",
    "    print(f\"Error al insertar datos en la tabla: {e}\")"
   ]
  },
  {
   "cell_type": "markdown",
   "id": "d6031d4b-15b8-4ee1-a959-e4da21d5d47d",
   "metadata": {},
   "source": [
    "***2. Creación stg_products_baq***"
   ]
  },
  {
   "cell_type": "code",
   "execution_count": 9,
   "id": "07331938-3363-4f89-8e26-6a2ae56b8de7",
   "metadata": {},
   "outputs": [
    {
     "data": {
      "text/html": [
       "<div>\n",
       "<style scoped>\n",
       "    .dataframe tbody tr th:only-of-type {\n",
       "        vertical-align: middle;\n",
       "    }\n",
       "\n",
       "    .dataframe tbody tr th {\n",
       "        vertical-align: top;\n",
       "    }\n",
       "\n",
       "    .dataframe thead th {\n",
       "        text-align: right;\n",
       "    }\n",
       "</style>\n",
       "<table border=\"1\" class=\"dataframe\">\n",
       "  <thead>\n",
       "    <tr style=\"text-align: right;\">\n",
       "      <th></th>\n",
       "      <th>product_id</th>\n",
       "      <th>sku</th>\n",
       "      <th>name</th>\n",
       "      <th>category</th>\n",
       "      <th>region_code</th>\n",
       "      <th>product_category_id</th>\n",
       "      <th>mean_shelf_life</th>\n",
       "      <th>promised_lead_time</th>\n",
       "      <th>purchasing_unit</th>\n",
       "      <th>buy_unit</th>\n",
       "      <th>weight_parameter_apricot</th>\n",
       "    </tr>\n",
       "  </thead>\n",
       "  <tbody>\n",
       "    <tr>\n",
       "      <th>0</th>\n",
       "      <td>660</td>\n",
       "      <td>BAQ-FRU1-CAT1-111:277:659:660</td>\n",
       "      <td>Granadilla Estándar - Kg</td>\n",
       "      <td>Frutas</td>\n",
       "      <td>BAQ</td>\n",
       "      <td>1</td>\n",
       "      <td>2</td>\n",
       "      <td>NaN</td>\n",
       "      <td>1.0</td>\n",
       "      <td>KG</td>\n",
       "      <td>1.0</td>\n",
       "    </tr>\n",
       "    <tr>\n",
       "      <th>1</th>\n",
       "      <td>676</td>\n",
       "      <td>BAQ-FRU1-CAT1-123:280:665:676</td>\n",
       "      <td>Kiwi Estándar - Kg</td>\n",
       "      <td>Frutas</td>\n",
       "      <td>BAQ</td>\n",
       "      <td>1</td>\n",
       "      <td>2</td>\n",
       "      <td>NaN</td>\n",
       "      <td>1.0</td>\n",
       "      <td>KG</td>\n",
       "      <td>1.0</td>\n",
       "    </tr>\n",
       "    <tr>\n",
       "      <th>2</th>\n",
       "      <td>116</td>\n",
       "      <td>BAQ-FRU1-CAT1-14:49:115:116</td>\n",
       "      <td>Limón Pajarito Estándar - Kg - 🤑 (Insuperable)</td>\n",
       "      <td>Frutas</td>\n",
       "      <td>BAQ</td>\n",
       "      <td>1</td>\n",
       "      <td>2</td>\n",
       "      <td>NaN</td>\n",
       "      <td>1.0</td>\n",
       "      <td>KG</td>\n",
       "      <td>1.0</td>\n",
       "    </tr>\n",
       "    <tr>\n",
       "      <th>3</th>\n",
       "      <td>652</td>\n",
       "      <td>BAQ-FRU1-CAT1-157:273:651:652</td>\n",
       "      <td>Tomate de Árbol Maduración Mixta Estándar - De...</td>\n",
       "      <td>Verduras</td>\n",
       "      <td>BAQ</td>\n",
       "      <td>1</td>\n",
       "      <td>2</td>\n",
       "      <td>NaN</td>\n",
       "      <td>0.1</td>\n",
       "      <td>KG</td>\n",
       "      <td>1.0</td>\n",
       "    </tr>\n",
       "    <tr>\n",
       "      <th>4</th>\n",
       "      <td>118</td>\n",
       "      <td>BAQ-FRU1-CAT1-15:50:117:118</td>\n",
       "      <td>Limón Tahití Estándar - Kg</td>\n",
       "      <td>Frutas</td>\n",
       "      <td>BAQ</td>\n",
       "      <td>1</td>\n",
       "      <td>3</td>\n",
       "      <td>NaN</td>\n",
       "      <td>1.0</td>\n",
       "      <td>KG</td>\n",
       "      <td>1.0</td>\n",
       "    </tr>\n",
       "  </tbody>\n",
       "</table>\n",
       "</div>"
      ],
      "text/plain": [
       "   product_id                            sku  \\\n",
       "0         660  BAQ-FRU1-CAT1-111:277:659:660   \n",
       "1         676  BAQ-FRU1-CAT1-123:280:665:676   \n",
       "2         116    BAQ-FRU1-CAT1-14:49:115:116   \n",
       "3         652  BAQ-FRU1-CAT1-157:273:651:652   \n",
       "4         118    BAQ-FRU1-CAT1-15:50:117:118   \n",
       "\n",
       "                                                name  category region_code  \\\n",
       "0                           Granadilla Estándar - Kg    Frutas         BAQ   \n",
       "1                                 Kiwi Estándar - Kg    Frutas         BAQ   \n",
       "2     Limón Pajarito Estándar - Kg - 🤑 (Insuperable)    Frutas         BAQ   \n",
       "3  Tomate de Árbol Maduración Mixta Estándar - De...  Verduras         BAQ   \n",
       "4                         Limón Tahití Estándar - Kg    Frutas         BAQ   \n",
       "\n",
       "   product_category_id  mean_shelf_life  promised_lead_time  purchasing_unit  \\\n",
       "0                    1                2                 NaN              1.0   \n",
       "1                    1                2                 NaN              1.0   \n",
       "2                    1                2                 NaN              1.0   \n",
       "3                    1                2                 NaN              0.1   \n",
       "4                    1                3                 NaN              1.0   \n",
       "\n",
       "  buy_unit  weight_parameter_apricot  \n",
       "0       KG                       1.0  \n",
       "1       KG                       1.0  \n",
       "2       KG                       1.0  \n",
       "3       KG                       1.0  \n",
       "4       KG                       1.0  "
      ]
     },
     "execution_count": 9,
     "metadata": {},
     "output_type": "execute_result"
    }
   ],
   "source": [
    "# URL del archivo en GitHub\n",
    "url = 'https://github.com/demonory/PAAD_G17/raw/main/Fuentes/Products_BAQ.csv'\n",
    "\n",
    "# Descargar el archivo\n",
    "response = requests.get(url)\n",
    "with open('Products_BAQ.csv', 'wb') as file:\n",
    "    file.write(response.content)\n",
    "\n",
    "# Leer el archivo CSV\n",
    "df = pd.read_csv('Products_BAQ.csv')\n",
    "df.head()"
   ]
  },
  {
   "cell_type": "code",
   "execution_count": 10,
   "id": "4cdcb483-651d-41a8-a8ec-4c2d56f51d6e",
   "metadata": {},
   "outputs": [
    {
     "name": "stdout",
     "output_type": "stream",
     "text": [
      "Esquema 'paad_g17' ya existe.\n"
     ]
    }
   ],
   "source": [
    "# Configuración de la conexión a la base de datos\n",
    "user = 'dmonroy3'\n",
    "password = 'SamuelAlejo2020%'\n",
    "host = 'localhost'\n",
    "database = 'paad_g17'\n",
    "schema = 'paad_g17'\n",
    "table_name = 'stg_products_baq'\n",
    "\n",
    "# Crear la conexión\n",
    "engine = create_engine(f'mysql+mysqlconnector://{user}:{password}@{host}/{database}')\n",
    "\n",
    "# Verificar y crear el esquema si no existe\n",
    "try:\n",
    "    with engine.connect() as connection:\n",
    "        # Verificar si el esquema existe\n",
    "        result = connection.execute(text(f\"SELECT SCHEMA_NAME FROM information_schema.SCHEMATA WHERE SCHEMA_NAME = '{schema}'\"))\n",
    "        schema_exists = result.fetchone()\n",
    "\n",
    "        if not schema_exists:\n",
    "            # Si el esquema no existe, crearlo\n",
    "            connection.execute(text(f\"CREATE SCHEMA {schema}\"))\n",
    "            print(f\"Esquema '{schema}' creado correctamente.\")\n",
    "        else:\n",
    "            print(f\"Esquema '{schema}' ya existe.\")\n",
    "\n",
    "except SQLAlchemyError as e:\n",
    "    print(f\"Error al conectar a la base de datos o crear el esquema: {e}\")"
   ]
  },
  {
   "cell_type": "code",
   "execution_count": 11,
   "id": "50433efd-2436-4934-b6a6-320baf6603cf",
   "metadata": {},
   "outputs": [
    {
     "name": "stdout",
     "output_type": "stream",
     "text": [
      "Tabla borrada correctamente, si existía.\n"
     ]
    }
   ],
   "source": [
    "# Borrar la tabla si existe\n",
    "try:\n",
    "    with engine.connect() as connection:\n",
    "        connection.execute(text(f\"DROP TABLE IF EXISTS {table_name}\"))\n",
    "    print(\"Tabla borrada correctamente, si existía.\")\n",
    "except SQLAlchemyError as e:\n",
    "    print(f\"Error al borrar la tabla: {e}\")"
   ]
  },
  {
   "cell_type": "code",
   "execution_count": 12,
   "id": "77a12bb9-8443-416a-b9db-4f3818b278b8",
   "metadata": {},
   "outputs": [],
   "source": [
    "def map_dtype_to_mysql(dtype):\n",
    "    return 'VARCHAR(255)'"
   ]
  },
  {
   "cell_type": "code",
   "execution_count": 13,
   "id": "089862c3-e83a-4790-b52b-b9c27cffcbd7",
   "metadata": {},
   "outputs": [
    {
     "name": "stdout",
     "output_type": "stream",
     "text": [
      "Tabla creada correctamente.\n"
     ]
    }
   ],
   "source": [
    "# Obtener los tipos de datos adecuados para cada columna del DataFrame\n",
    "column_types = {column: map_dtype_to_mysql(dtype) for column, dtype in df.dtypes.items()}\n",
    "\n",
    "# Crear la consulta CREATE TABLE utilizando los tipos de datos adecuados\n",
    "create_table_query = f\"CREATE TABLE {table_name} (\"\n",
    "for column, column_type in column_types.items():\n",
    "    create_table_query += f\"\\n{column} {column_type},\"\n",
    "create_table_query = create_table_query.rstrip(',') + \"\\n)\"\n",
    "\n",
    "# Ejecutar la consulta para crear la tabla\n",
    "try:\n",
    "    with engine.connect() as connection:\n",
    "        connection.execute(text(create_table_query))\n",
    "    print(\"Tabla creada correctamente.\")\n",
    "except SQLAlchemyError as e:\n",
    "    print(f\"Error al crear la tabla: {e}\")"
   ]
  },
  {
   "cell_type": "code",
   "execution_count": 14,
   "id": "fbf52019-9358-466c-951f-6a0fa2754917",
   "metadata": {},
   "outputs": [
    {
     "name": "stdout",
     "output_type": "stream",
     "text": [
      "137 datos insertados correctamente.\n"
     ]
    }
   ],
   "source": [
    "# Ahora, insertar los datos en la tabla\n",
    "try:\n",
    "    num_rows_inserted = df.shape[0]  # Obtener el número de filas en el DataFrame\n",
    "    df.to_sql(table_name, con=engine, if_exists='append', index=False)\n",
    "    print(f\"{num_rows_inserted} datos insertados correctamente.\")\n",
    "except SQLAlchemyError as e:\n",
    "    print(f\"Error al insertar datos en la tabla: {e}\")"
   ]
  },
  {
   "cell_type": "markdown",
   "id": "a6e703a4-b67f-47c5-96c1-e1438c484d48",
   "metadata": {},
   "source": [
    "***3. Creación stg_waste_percentage_by_age***"
   ]
  },
  {
   "cell_type": "code",
   "execution_count": 15,
   "id": "d7de3cc5-5233-405e-9f84-18723dd53dd1",
   "metadata": {},
   "outputs": [
    {
     "data": {
      "text/html": [
       "<div>\n",
       "<style scoped>\n",
       "    .dataframe tbody tr th:only-of-type {\n",
       "        vertical-align: middle;\n",
       "    }\n",
       "\n",
       "    .dataframe tbody tr th {\n",
       "        vertical-align: top;\n",
       "    }\n",
       "\n",
       "    .dataframe thead th {\n",
       "        text-align: right;\n",
       "    }\n",
       "</style>\n",
       "<table border=\"1\" class=\"dataframe\">\n",
       "  <thead>\n",
       "    <tr style=\"text-align: right;\">\n",
       "      <th></th>\n",
       "      <th>shelf_life</th>\n",
       "      <th>age</th>\n",
       "      <th>waste_percentage</th>\n",
       "    </tr>\n",
       "  </thead>\n",
       "  <tbody>\n",
       "    <tr>\n",
       "      <th>0</th>\n",
       "      <td>1</td>\n",
       "      <td>1</td>\n",
       "      <td>50.28</td>\n",
       "    </tr>\n",
       "    <tr>\n",
       "      <th>1</th>\n",
       "      <td>1</td>\n",
       "      <td>2</td>\n",
       "      <td>75.27</td>\n",
       "    </tr>\n",
       "    <tr>\n",
       "      <th>2</th>\n",
       "      <td>1</td>\n",
       "      <td>3</td>\n",
       "      <td>87.71</td>\n",
       "    </tr>\n",
       "    <tr>\n",
       "      <th>3</th>\n",
       "      <td>1</td>\n",
       "      <td>4</td>\n",
       "      <td>93.89</td>\n",
       "    </tr>\n",
       "    <tr>\n",
       "      <th>4</th>\n",
       "      <td>1</td>\n",
       "      <td>5</td>\n",
       "      <td>96.96</td>\n",
       "    </tr>\n",
       "  </tbody>\n",
       "</table>\n",
       "</div>"
      ],
      "text/plain": [
       "   shelf_life  age  waste_percentage\n",
       "0           1    1             50.28\n",
       "1           1    2             75.27\n",
       "2           1    3             87.71\n",
       "3           1    4             93.89\n",
       "4           1    5             96.96"
      ]
     },
     "execution_count": 15,
     "metadata": {},
     "output_type": "execute_result"
    }
   ],
   "source": [
    "# URL del archivo en GitHub\n",
    "url = 'https://github.com/demonory/PAAD_G17/raw/main/Fuentes/waste_percentage_by_age.csv'\n",
    "\n",
    "# Descargar el archivo\n",
    "response = requests.get(url)\n",
    "with open('waste_percentage_by_age.csv', 'wb') as file:\n",
    "    file.write(response.content)\n",
    "\n",
    "# Leer el archivo CSV\n",
    "df = pd.read_csv('waste_percentage_by_age.csv')\n",
    "# Cambiar el nombre de las columnas\n",
    "df.rename(columns={'waste_percentage (%)': 'waste_percentage', 'shelf life': 'shelf_life'}, inplace=True)\n",
    "df.head()"
   ]
  },
  {
   "cell_type": "code",
   "execution_count": 16,
   "id": "84bb6a07-314c-4b61-b485-dac733f1d2fe",
   "metadata": {},
   "outputs": [
    {
     "name": "stdout",
     "output_type": "stream",
     "text": [
      "Esquema 'paad_g17' ya existe.\n"
     ]
    }
   ],
   "source": [
    "# Configuración de la conexión a la base de datos\n",
    "user = 'dmonroy3'\n",
    "password = 'SamuelAlejo2020%'\n",
    "host = 'localhost'\n",
    "database = 'paad_g17'\n",
    "schema = 'paad_g17'\n",
    "table_name = 'stg_waste_percentage_by_age'\n",
    "\n",
    "# Crear la conexión\n",
    "engine = create_engine(f'mysql+mysqlconnector://{user}:{password}@{host}/{database}')\n",
    "\n",
    "# Verificar y crear el esquema si no existe\n",
    "try:\n",
    "    with engine.connect() as connection:\n",
    "        # Verificar si el esquema existe\n",
    "        result = connection.execute(text(f\"SELECT SCHEMA_NAME FROM information_schema.SCHEMATA WHERE SCHEMA_NAME = '{schema}'\"))\n",
    "        schema_exists = result.fetchone()\n",
    "\n",
    "        if not schema_exists:\n",
    "            # Si el esquema no existe, crearlo\n",
    "            connection.execute(text(f\"CREATE SCHEMA {schema}\"))\n",
    "            print(f\"Esquema '{schema}' creado correctamente.\")\n",
    "        else:\n",
    "            print(f\"Esquema '{schema}' ya existe.\")\n",
    "\n",
    "except SQLAlchemyError as e:\n",
    "    print(f\"Error al conectar a la base de datos o crear el esquema: {e}\")"
   ]
  },
  {
   "cell_type": "code",
   "execution_count": 17,
   "id": "9ca95182-42b9-4472-b9c4-6dca88db661b",
   "metadata": {},
   "outputs": [
    {
     "name": "stdout",
     "output_type": "stream",
     "text": [
      "Tabla borrada correctamente, si existía.\n"
     ]
    }
   ],
   "source": [
    "# Borrar la tabla si existe\n",
    "try:\n",
    "    with engine.connect() as connection:\n",
    "        connection.execute(text(f\"DROP TABLE IF EXISTS {table_name}\"))\n",
    "    print(\"Tabla borrada correctamente, si existía.\")\n",
    "except SQLAlchemyError as e:\n",
    "    print(f\"Error al borrar la tabla: {e}\")\n"
   ]
  },
  {
   "cell_type": "code",
   "execution_count": 18,
   "id": "1aa1fdbe-62d8-45c0-b5c3-b45c8758236d",
   "metadata": {},
   "outputs": [],
   "source": [
    "def map_dtype_to_mysql(dtype):\n",
    "    return 'VARCHAR(255)'"
   ]
  },
  {
   "cell_type": "code",
   "execution_count": 19,
   "id": "d4a553f7-6f55-43ed-ac87-2d1576697d3f",
   "metadata": {},
   "outputs": [
    {
     "name": "stdout",
     "output_type": "stream",
     "text": [
      "Tabla creada correctamente.\n"
     ]
    }
   ],
   "source": [
    "# Obtener los tipos de datos adecuados para cada columna del DataFrame\n",
    "column_types = {column: map_dtype_to_mysql(dtype) for column, dtype in df.dtypes.items()}\n",
    "\n",
    "# Crear la consulta CREATE TABLE utilizando los tipos de datos adecuados\n",
    "create_table_query = f\"CREATE TABLE {table_name} (\"\n",
    "for column, column_type in column_types.items():\n",
    "    create_table_query += f\"\\n{column} {column_type},\"\n",
    "create_table_query = create_table_query.rstrip(',') + \"\\n)\"\n",
    "\n",
    "# Ejecutar la consulta para crear la tabla\n",
    "try:\n",
    "    with engine.connect() as connection:\n",
    "        connection.execute(text(create_table_query))\n",
    "    print(\"Tabla creada correctamente.\")\n",
    "except SQLAlchemyError as e:\n",
    "    print(f\"Error al crear la tabla: {e}\")"
   ]
  },
  {
   "cell_type": "code",
   "execution_count": 20,
   "id": "256b4485-ce5a-4110-bf63-740dd4fe5d5d",
   "metadata": {},
   "outputs": [
    {
     "name": "stdout",
     "output_type": "stream",
     "text": [
      "7921 datos insertados correctamente.\n"
     ]
    }
   ],
   "source": [
    "# Ahora, insertar los datos en la tabla\n",
    "try:\n",
    "    num_rows_inserted = df.shape[0]  # Obtener el número de filas en el DataFrame\n",
    "    df.to_sql(table_name, con=engine, if_exists='append', index=False)\n",
    "    print(f\"{num_rows_inserted} datos insertados correctamente.\")\n",
    "except SQLAlchemyError as e:\n",
    "    print(f\"Error al insertar datos en la tabla: {e}\")"
   ]
  },
  {
   "cell_type": "markdown",
   "id": "6fac5a10-c252-4f65-aa97-7297f1ab594a",
   "metadata": {},
   "source": [
    "***4. Creación stg_revision_precios_sipsa***"
   ]
  },
  {
   "cell_type": "code",
   "execution_count": 21,
   "id": "0dc90122-9ef8-4edc-961c-436eeff36ee1",
   "metadata": {},
   "outputs": [
    {
     "data": {
      "text/html": [
       "<div>\n",
       "<style scoped>\n",
       "    .dataframe tbody tr th:only-of-type {\n",
       "        vertical-align: middle;\n",
       "    }\n",
       "\n",
       "    .dataframe tbody tr th {\n",
       "        vertical-align: top;\n",
       "    }\n",
       "\n",
       "    .dataframe thead th {\n",
       "        text-align: right;\n",
       "    }\n",
       "</style>\n",
       "<table border=\"1\" class=\"dataframe\">\n",
       "  <thead>\n",
       "    <tr style=\"text-align: right;\">\n",
       "      <th></th>\n",
       "      <th>warehouse_code</th>\n",
       "      <th>region_code</th>\n",
       "      <th>id</th>\n",
       "      <th>delivery_date</th>\n",
       "      <th>AÃ±o</th>\n",
       "      <th>Mes</th>\n",
       "      <th>product_id</th>\n",
       "      <th>sku</th>\n",
       "      <th>name</th>\n",
       "      <th>supplier_id</th>\n",
       "      <th>price</th>\n",
       "      <th>quantity</th>\n",
       "      <th>unidad_de_compra</th>\n",
       "      <th>precio_por_kilo</th>\n",
       "      <th>Cadena2</th>\n",
       "      <th>Cadena1</th>\n",
       "      <th>average_precio_promedio_por_kilogramo</th>\n",
       "      <th>surplus</th>\n",
       "    </tr>\n",
       "  </thead>\n",
       "  <tbody>\n",
       "    <tr>\n",
       "      <th>0</th>\n",
       "      <td>BAQ</td>\n",
       "      <td>BAQ</td>\n",
       "      <td>10475443</td>\n",
       "      <td>10/01/2023</td>\n",
       "      <td>2023</td>\n",
       "      <td>1</td>\n",
       "      <td>100</td>\n",
       "      <td>BAQ-FRU1-CAT1-2:42:99:100</td>\n",
       "      <td>Aguacate Maduro - Kg</td>\n",
       "      <td>383</td>\n",
       "      <td>10000</td>\n",
       "      <td>10</td>\n",
       "      <td>1.0</td>\n",
       "      <td>10000.0</td>\n",
       "      <td>2023-1-Aguacate Maduro - Kg</td>\n",
       "      <td>NaN</td>\n",
       "      <td>5496</td>\n",
       "      <td>81.95%</td>\n",
       "    </tr>\n",
       "    <tr>\n",
       "      <th>1</th>\n",
       "      <td>BAQ</td>\n",
       "      <td>BAQ</td>\n",
       "      <td>11445810</td>\n",
       "      <td>1/04/2023</td>\n",
       "      <td>2023</td>\n",
       "      <td>4</td>\n",
       "      <td>100</td>\n",
       "      <td>BAQ-FRU1-CAT1-2:42:99:100</td>\n",
       "      <td>Aguacate Maduro - Kg</td>\n",
       "      <td>383</td>\n",
       "      <td>7000</td>\n",
       "      <td>50</td>\n",
       "      <td>1.0</td>\n",
       "      <td>7000.0</td>\n",
       "      <td>2023-4-Aguacate Maduro - Kg</td>\n",
       "      <td>NaN</td>\n",
       "      <td>5572</td>\n",
       "      <td>25.63%</td>\n",
       "    </tr>\n",
       "    <tr>\n",
       "      <th>2</th>\n",
       "      <td>BAQ</td>\n",
       "      <td>BAQ</td>\n",
       "      <td>11460941</td>\n",
       "      <td>3/04/2023</td>\n",
       "      <td>2023</td>\n",
       "      <td>4</td>\n",
       "      <td>100</td>\n",
       "      <td>BAQ-FRU1-CAT1-2:42:99:100</td>\n",
       "      <td>Aguacate Maduro - Kg</td>\n",
       "      <td>383</td>\n",
       "      <td>7000</td>\n",
       "      <td>40</td>\n",
       "      <td>1.0</td>\n",
       "      <td>7000.0</td>\n",
       "      <td>2023-4-Aguacate Maduro - Kg</td>\n",
       "      <td>NaN</td>\n",
       "      <td>5572</td>\n",
       "      <td>25.63%</td>\n",
       "    </tr>\n",
       "    <tr>\n",
       "      <th>3</th>\n",
       "      <td>BAQ</td>\n",
       "      <td>BAQ</td>\n",
       "      <td>11508565</td>\n",
       "      <td>10/04/2023</td>\n",
       "      <td>2023</td>\n",
       "      <td>4</td>\n",
       "      <td>100</td>\n",
       "      <td>BAQ-FRU1-CAT1-2:42:99:100</td>\n",
       "      <td>Aguacate Maduro - Kg</td>\n",
       "      <td>383</td>\n",
       "      <td>7000</td>\n",
       "      <td>60</td>\n",
       "      <td>1.0</td>\n",
       "      <td>7000.0</td>\n",
       "      <td>2023-4-Aguacate Maduro - Kg</td>\n",
       "      <td>NaN</td>\n",
       "      <td>5572</td>\n",
       "      <td>25.63%</td>\n",
       "    </tr>\n",
       "    <tr>\n",
       "      <th>4</th>\n",
       "      <td>BAQ</td>\n",
       "      <td>BAQ</td>\n",
       "      <td>11514234</td>\n",
       "      <td>11/04/2023</td>\n",
       "      <td>2023</td>\n",
       "      <td>4</td>\n",
       "      <td>100</td>\n",
       "      <td>BAQ-FRU1-CAT1-2:42:99:100</td>\n",
       "      <td>Aguacate Maduro - Kg</td>\n",
       "      <td>382</td>\n",
       "      <td>7000</td>\n",
       "      <td>60</td>\n",
       "      <td>1.0</td>\n",
       "      <td>7000.0</td>\n",
       "      <td>2023-4-Aguacate Maduro - Kg</td>\n",
       "      <td>NaN</td>\n",
       "      <td>5572</td>\n",
       "      <td>25.63%</td>\n",
       "    </tr>\n",
       "  </tbody>\n",
       "</table>\n",
       "</div>"
      ],
      "text/plain": [
       "  warehouse_code region_code        id delivery_date  AÃ±o  Mes  product_id  \\\n",
       "0            BAQ         BAQ  10475443    10/01/2023  2023    1         100   \n",
       "1            BAQ         BAQ  11445810     1/04/2023  2023    4         100   \n",
       "2            BAQ         BAQ  11460941     3/04/2023  2023    4         100   \n",
       "3            BAQ         BAQ  11508565    10/04/2023  2023    4         100   \n",
       "4            BAQ         BAQ  11514234    11/04/2023  2023    4         100   \n",
       "\n",
       "                         sku                  name  supplier_id  price  \\\n",
       "0  BAQ-FRU1-CAT1-2:42:99:100  Aguacate Maduro - Kg          383  10000   \n",
       "1  BAQ-FRU1-CAT1-2:42:99:100  Aguacate Maduro - Kg          383   7000   \n",
       "2  BAQ-FRU1-CAT1-2:42:99:100  Aguacate Maduro - Kg          383   7000   \n",
       "3  BAQ-FRU1-CAT1-2:42:99:100  Aguacate Maduro - Kg          383   7000   \n",
       "4  BAQ-FRU1-CAT1-2:42:99:100  Aguacate Maduro - Kg          382   7000   \n",
       "\n",
       "   quantity  unidad_de_compra  precio_por_kilo                      Cadena2  \\\n",
       "0        10               1.0          10000.0  2023-1-Aguacate Maduro - Kg   \n",
       "1        50               1.0           7000.0  2023-4-Aguacate Maduro - Kg   \n",
       "2        40               1.0           7000.0  2023-4-Aguacate Maduro - Kg   \n",
       "3        60               1.0           7000.0  2023-4-Aguacate Maduro - Kg   \n",
       "4        60               1.0           7000.0  2023-4-Aguacate Maduro - Kg   \n",
       "\n",
       "  Cadena1  average_precio_promedio_por_kilogramo surplus  \n",
       "0     NaN                                   5496  81.95%  \n",
       "1     NaN                                   5572  25.63%  \n",
       "2     NaN                                   5572  25.63%  \n",
       "3     NaN                                   5572  25.63%  \n",
       "4     NaN                                   5572  25.63%  "
      ]
     },
     "execution_count": 21,
     "metadata": {},
     "output_type": "execute_result"
    }
   ],
   "source": [
    "# URL del archivo en GitHub\n",
    "url = 'https://github.com/demonory/PAAD_G17/raw/main/Fuentes/Revision_precios_sipsa.csv'\n",
    "\n",
    "# Descargar el archivo\n",
    "response = requests.get(url)\n",
    "with open('Revision_precios_sipsa.csv', 'wb') as file:\n",
    "    file.write(response.content)\n",
    "\n",
    "# Leer el archivo CSV\n",
    "df = pd.read_csv('Revision_precios_sipsa.csv')\n",
    "# Renombrar columnas\n",
    "df.rename(columns={'Unidad de compra': 'unidad_de_compra', \n",
    "                   'Precio por kilo': 'precio_por_kilo', \n",
    "                   'AVERAGE de Precio promedio por kilogramo*': 'average_precio_promedio_por_kilogramo', \n",
    "                   'Surplus': 'surplus'}, inplace=True)\n",
    "df.head()"
   ]
  },
  {
   "cell_type": "code",
   "execution_count": 22,
   "id": "2e571f86-15f9-4237-9e42-da5eed5ab7b3",
   "metadata": {},
   "outputs": [
    {
     "name": "stdout",
     "output_type": "stream",
     "text": [
      "Esquema 'paad_g17' ya existe.\n"
     ]
    }
   ],
   "source": [
    "# Configuración de la conexión a la base de datos\n",
    "user = 'dmonroy3'\n",
    "password = 'SamuelAlejo2020%'\n",
    "host = 'localhost'\n",
    "database = 'paad_g17'\n",
    "schema = 'paad_g17'\n",
    "table_name = 'stg_revision_precios_sipsa'\n",
    "\n",
    "# Crear la conexión\n",
    "engine = create_engine(f'mysql+mysqlconnector://{user}:{password}@{host}/{database}')\n",
    "\n",
    "# Verificar y crear el esquema si no existe\n",
    "try:\n",
    "    with engine.connect() as connection:\n",
    "        # Verificar si el esquema existe\n",
    "        result = connection.execute(text(f\"SELECT SCHEMA_NAME FROM information_schema.SCHEMATA WHERE SCHEMA_NAME = '{schema}'\"))\n",
    "        schema_exists = result.fetchone()\n",
    "\n",
    "        if not schema_exists:\n",
    "            # Si el esquema no existe, crearlo\n",
    "            connection.execute(text(f\"CREATE SCHEMA {schema}\"))\n",
    "            print(f\"Esquema '{schema}' creado correctamente.\")\n",
    "        else:\n",
    "            print(f\"Esquema '{schema}' ya existe.\")\n",
    "\n",
    "except SQLAlchemyError as e:\n",
    "    print(f\"Error al conectar a la base de datos o crear el esquema: {e}\")"
   ]
  },
  {
   "cell_type": "code",
   "execution_count": 23,
   "id": "3091483e-c1e0-4991-8937-fc893d8e943e",
   "metadata": {},
   "outputs": [
    {
     "name": "stdout",
     "output_type": "stream",
     "text": [
      "Tabla borrada correctamente, si existía.\n"
     ]
    }
   ],
   "source": [
    "# Borrar la tabla si existe\n",
    "try:\n",
    "    with engine.connect() as connection:\n",
    "        connection.execute(text(f\"DROP TABLE IF EXISTS {table_name}\"))\n",
    "    print(\"Tabla borrada correctamente, si existía.\")\n",
    "except SQLAlchemyError as e:\n",
    "    print(f\"Error al borrar la tabla: {e}\")\n"
   ]
  },
  {
   "cell_type": "code",
   "execution_count": 24,
   "id": "ae42463f-0388-446a-b60a-b7bfa06329a7",
   "metadata": {},
   "outputs": [],
   "source": [
    "def map_dtype_to_mysql(dtype):\n",
    "    return 'VARCHAR(255)'"
   ]
  },
  {
   "cell_type": "code",
   "execution_count": 25,
   "id": "bff5c962-99da-4424-8c81-5a8e0c38e8e2",
   "metadata": {},
   "outputs": [
    {
     "name": "stdout",
     "output_type": "stream",
     "text": [
      "Tabla creada correctamente.\n"
     ]
    }
   ],
   "source": [
    "# Obtener los tipos de datos adecuados para cada columna del DataFrame\n",
    "column_types = {column: map_dtype_to_mysql(dtype) for column, dtype in df.dtypes.items()}\n",
    "\n",
    "# Crear la consulta CREATE TABLE utilizando los tipos de datos adecuados\n",
    "create_table_query = f\"CREATE TABLE {table_name} (\"\n",
    "for column, column_type in column_types.items():\n",
    "    create_table_query += f\"\\n{column} {column_type},\"\n",
    "create_table_query = create_table_query.rstrip(',') + \"\\n)\"\n",
    "\n",
    "# Ejecutar la consulta para crear la tabla\n",
    "try:\n",
    "    with engine.connect() as connection:\n",
    "        connection.execute(text(create_table_query))\n",
    "    print(\"Tabla creada correctamente.\")\n",
    "except SQLAlchemyError as e:\n",
    "    print(f\"Error al crear la tabla: {e}\")"
   ]
  },
  {
   "cell_type": "code",
   "execution_count": 26,
   "id": "4093b1f3-2505-4d6f-abdf-b001485be0e4",
   "metadata": {},
   "outputs": [
    {
     "name": "stdout",
     "output_type": "stream",
     "text": [
      "5103 datos insertados correctamente.\n"
     ]
    }
   ],
   "source": [
    "# Ahora, insertar los datos en la tabla\n",
    "try:\n",
    "    num_rows_inserted = df.shape[0]  # Obtener el número de filas en el DataFrame\n",
    "    df.to_sql(table_name, con=engine, if_exists='append', index=False)\n",
    "    print(f\"{num_rows_inserted} datos insertados correctamente.\")\n",
    "except SQLAlchemyError as e:\n",
    "    print(f\"Error al insertar datos en la tabla: {e}\")"
   ]
  },
  {
   "cell_type": "markdown",
   "id": "6d48bfcb-4fe3-433a-8679-7959bb471c66",
   "metadata": {},
   "source": [
    "***5. Creación stg_datos_con_clusters***"
   ]
  },
  {
   "cell_type": "code",
   "execution_count": 27,
   "id": "55575c78-2de3-4acc-b708-6d04ddd065d6",
   "metadata": {},
   "outputs": [
    {
     "data": {
      "text/html": [
       "<div>\n",
       "<style scoped>\n",
       "    .dataframe tbody tr th:only-of-type {\n",
       "        vertical-align: middle;\n",
       "    }\n",
       "\n",
       "    .dataframe tbody tr th {\n",
       "        vertical-align: top;\n",
       "    }\n",
       "\n",
       "    .dataframe thead th {\n",
       "        text-align: right;\n",
       "    }\n",
       "</style>\n",
       "<table border=\"1\" class=\"dataframe\">\n",
       "  <thead>\n",
       "    <tr style=\"text-align: right;\">\n",
       "      <th></th>\n",
       "      <th>Proveedor</th>\n",
       "      <th>Pedidos_atendidos</th>\n",
       "      <th>Volumen_portafolio</th>\n",
       "      <th>Volumen_category_portafolio</th>\n",
       "      <th>Minimo_pedido</th>\n",
       "      <th>Maximo_pedido</th>\n",
       "      <th>Prom_variacion_sipsa</th>\n",
       "      <th>Cluster</th>\n",
       "    </tr>\n",
       "  </thead>\n",
       "  <tbody>\n",
       "    <tr>\n",
       "      <th>0</th>\n",
       "      <td>2</td>\n",
       "      <td>330</td>\n",
       "      <td>23</td>\n",
       "      <td>2</td>\n",
       "      <td>1.0</td>\n",
       "      <td>100.0</td>\n",
       "      <td>-0.080710</td>\n",
       "      <td>0</td>\n",
       "    </tr>\n",
       "    <tr>\n",
       "      <th>1</th>\n",
       "      <td>3</td>\n",
       "      <td>2</td>\n",
       "      <td>2</td>\n",
       "      <td>1</td>\n",
       "      <td>15.0</td>\n",
       "      <td>20.0</td>\n",
       "      <td>0.000000</td>\n",
       "      <td>0</td>\n",
       "    </tr>\n",
       "    <tr>\n",
       "      <th>2</th>\n",
       "      <td>9</td>\n",
       "      <td>34</td>\n",
       "      <td>4</td>\n",
       "      <td>1</td>\n",
       "      <td>1.0</td>\n",
       "      <td>160.0</td>\n",
       "      <td>0.027052</td>\n",
       "      <td>0</td>\n",
       "    </tr>\n",
       "    <tr>\n",
       "      <th>3</th>\n",
       "      <td>10</td>\n",
       "      <td>30</td>\n",
       "      <td>17</td>\n",
       "      <td>1</td>\n",
       "      <td>1.0</td>\n",
       "      <td>159.0</td>\n",
       "      <td>-0.103380</td>\n",
       "      <td>0</td>\n",
       "    </tr>\n",
       "    <tr>\n",
       "      <th>4</th>\n",
       "      <td>18</td>\n",
       "      <td>98</td>\n",
       "      <td>9</td>\n",
       "      <td>1</td>\n",
       "      <td>5.0</td>\n",
       "      <td>742.0</td>\n",
       "      <td>0.122707</td>\n",
       "      <td>0</td>\n",
       "    </tr>\n",
       "  </tbody>\n",
       "</table>\n",
       "</div>"
      ],
      "text/plain": [
       "   Proveedor  Pedidos_atendidos  Volumen_portafolio  \\\n",
       "0          2                330                  23   \n",
       "1          3                  2                   2   \n",
       "2          9                 34                   4   \n",
       "3         10                 30                  17   \n",
       "4         18                 98                   9   \n",
       "\n",
       "   Volumen_category_portafolio  Minimo_pedido  Maximo_pedido  \\\n",
       "0                            2            1.0          100.0   \n",
       "1                            1           15.0           20.0   \n",
       "2                            1            1.0          160.0   \n",
       "3                            1            1.0          159.0   \n",
       "4                            1            5.0          742.0   \n",
       "\n",
       "   Prom_variacion_sipsa  Cluster  \n",
       "0             -0.080710        0  \n",
       "1              0.000000        0  \n",
       "2              0.027052        0  \n",
       "3             -0.103380        0  \n",
       "4              0.122707        0  "
      ]
     },
     "execution_count": 27,
     "metadata": {},
     "output_type": "execute_result"
    }
   ],
   "source": [
    "# URL del archivo en GitHub\n",
    "url = 'https://github.com/demonory/PAAD_G17/raw/main/Fuentes/datos_con_clusters.csv'\n",
    "\n",
    "# Descargar el archivo\n",
    "response = requests.get(url)\n",
    "with open('datos_con_clusters.csv', 'wb') as file:\n",
    "    file.write(response.content)\n",
    "\n",
    "# Leer el archivo CSV\n",
    "df = pd.read_csv('datos_con_clusters.csv')\n",
    "df = df.drop(df.columns[0], axis=1)\n",
    "df.head()"
   ]
  },
  {
   "cell_type": "code",
   "execution_count": 28,
   "id": "c72af2e0-a97a-4e71-aef2-d288f722f59b",
   "metadata": {},
   "outputs": [
    {
     "name": "stdout",
     "output_type": "stream",
     "text": [
      "Esquema 'paad_g17' ya existe.\n"
     ]
    }
   ],
   "source": [
    "# Configuración de la conexión a la base de datos\n",
    "user = 'dmonroy3'\n",
    "password = 'SamuelAlejo2020%'\n",
    "host = 'localhost'\n",
    "database = 'paad_g17'\n",
    "schema = 'paad_g17'\n",
    "table_name = 'stg_datos_con_clusters'\n",
    "\n",
    "# Crear la conexión\n",
    "engine = create_engine(f'mysql+mysqlconnector://{user}:{password}@{host}/{database}')\n",
    "\n",
    "# Verificar y crear el esquema si no existe\n",
    "try:\n",
    "    with engine.connect() as connection:\n",
    "        # Verificar si el esquema existe\n",
    "        result = connection.execute(text(f\"SELECT SCHEMA_NAME FROM information_schema.SCHEMATA WHERE SCHEMA_NAME = '{schema}'\"))\n",
    "        schema_exists = result.fetchone()\n",
    "\n",
    "        if not schema_exists:\n",
    "            # Si el esquema no existe, crearlo\n",
    "            connection.execute(text(f\"CREATE SCHEMA {schema}\"))\n",
    "            print(f\"Esquema '{schema}' creado correctamente.\")\n",
    "        else:\n",
    "            print(f\"Esquema '{schema}' ya existe.\")\n",
    "\n",
    "except SQLAlchemyError as e:\n",
    "    print(f\"Error al conectar a la base de datos o crear el esquema: {e}\")"
   ]
  },
  {
   "cell_type": "code",
   "execution_count": 29,
   "id": "1b6cd7b4-76eb-4ea1-b77b-4421f12c87f4",
   "metadata": {},
   "outputs": [
    {
     "name": "stdout",
     "output_type": "stream",
     "text": [
      "Tabla borrada correctamente, si existía.\n"
     ]
    }
   ],
   "source": [
    "# Borrar la tabla si existe\n",
    "try:\n",
    "    with engine.connect() as connection:\n",
    "        connection.execute(text(f\"DROP TABLE IF EXISTS {table_name}\"))\n",
    "    print(\"Tabla borrada correctamente, si existía.\")\n",
    "except SQLAlchemyError as e:\n",
    "    print(f\"Error al borrar la tabla: {e}\")\n"
   ]
  },
  {
   "cell_type": "code",
   "execution_count": 30,
   "id": "d17144eb-ba0b-4317-8dc4-b6b184bc6c1f",
   "metadata": {},
   "outputs": [],
   "source": [
    "def map_dtype_to_mysql(dtype):\n",
    "    return 'VARCHAR(255)'"
   ]
  },
  {
   "cell_type": "code",
   "execution_count": 31,
   "id": "776ab5ef-96d8-45c4-94f8-015df8109e58",
   "metadata": {},
   "outputs": [
    {
     "name": "stdout",
     "output_type": "stream",
     "text": [
      "Tabla creada correctamente.\n"
     ]
    }
   ],
   "source": [
    "# Obtener los tipos de datos adecuados para cada columna del DataFrame\n",
    "column_types = {column: map_dtype_to_mysql(dtype) for column, dtype in df.dtypes.items()}\n",
    "\n",
    "# Crear la consulta CREATE TABLE utilizando los tipos de datos adecuados\n",
    "create_table_query = f\"CREATE TABLE {table_name} (\"\n",
    "for column, column_type in column_types.items():\n",
    "    create_table_query += f\"\\n{column} {column_type},\"\n",
    "create_table_query = create_table_query.rstrip(',') + \"\\n)\"\n",
    "\n",
    "# Ejecutar la consulta para crear la tabla\n",
    "try:\n",
    "    with engine.connect() as connection:\n",
    "        connection.execute(text(create_table_query))\n",
    "    print(\"Tabla creada correctamente.\")\n",
    "except SQLAlchemyError as e:\n",
    "    print(f\"Error al crear la tabla: {e}\")"
   ]
  },
  {
   "cell_type": "code",
   "execution_count": 32,
   "id": "d40fbcbe-6d8b-47a9-a2fc-15990930e8a1",
   "metadata": {},
   "outputs": [
    {
     "name": "stdout",
     "output_type": "stream",
     "text": [
      "141 datos insertados correctamente.\n"
     ]
    }
   ],
   "source": [
    "# Ahora, insertar los datos en la tabla\n",
    "try:\n",
    "    num_rows_inserted = df.shape[0]  # Obtener el número de filas en el DataFrame\n",
    "    df.to_sql(table_name, con=engine, if_exists='append', index=False)\n",
    "    print(f\"{num_rows_inserted} datos insertados correctamente.\")\n",
    "except SQLAlchemyError as e:\n",
    "    print(f\"Error al insertar datos en la tabla: {e}\")"
   ]
  },
  {
   "cell_type": "markdown",
   "id": "125ac3b3-8c60-48b4-9b02-52fe363a1188",
   "metadata": {},
   "source": [
    "***6. Creación stg_descripcion_clusters_proveedores***"
   ]
  },
  {
   "cell_type": "code",
   "execution_count": 33,
   "id": "645c1dee-2dcd-40b2-8022-a3bd695411db",
   "metadata": {},
   "outputs": [
    {
     "data": {
      "text/html": [
       "<div>\n",
       "<style scoped>\n",
       "    .dataframe tbody tr th:only-of-type {\n",
       "        vertical-align: middle;\n",
       "    }\n",
       "\n",
       "    .dataframe tbody tr th {\n",
       "        vertical-align: top;\n",
       "    }\n",
       "\n",
       "    .dataframe thead th {\n",
       "        text-align: right;\n",
       "    }\n",
       "</style>\n",
       "<table border=\"1\" class=\"dataframe\">\n",
       "  <thead>\n",
       "    <tr style=\"text-align: right;\">\n",
       "      <th></th>\n",
       "      <th>Cluster</th>\n",
       "      <th>Pedidos_atendidos</th>\n",
       "      <th>Volumen_portafolio</th>\n",
       "      <th>Volumen_category_portafolio</th>\n",
       "      <th>Minimo_pedido</th>\n",
       "      <th>Maximo_pedido</th>\n",
       "      <th>Prom_variacion_sipsa</th>\n",
       "      <th>Descripción</th>\n",
       "    </tr>\n",
       "  </thead>\n",
       "  <tbody>\n",
       "    <tr>\n",
       "      <th>0</th>\n",
       "      <td>0</td>\n",
       "      <td>34.31</td>\n",
       "      <td>4.53</td>\n",
       "      <td>1.31</td>\n",
       "      <td>141.13</td>\n",
       "      <td>649.87</td>\n",
       "      <td>0.0627%</td>\n",
       "      <td>Proveedores de portafolio reducido -  baja cap...</td>\n",
       "    </tr>\n",
       "    <tr>\n",
       "      <th>1</th>\n",
       "      <td>1</td>\n",
       "      <td>57.00</td>\n",
       "      <td>2.50</td>\n",
       "      <td>2.00</td>\n",
       "      <td>574.00</td>\n",
       "      <td>28500.00</td>\n",
       "      <td>0.2107%</td>\n",
       "      <td>Proveedores de portafolio reducido -  amplia c...</td>\n",
       "    </tr>\n",
       "    <tr>\n",
       "      <th>2</th>\n",
       "      <td>2</td>\n",
       "      <td>88.87</td>\n",
       "      <td>21.20</td>\n",
       "      <td>2.38</td>\n",
       "      <td>83.50</td>\n",
       "      <td>11552.75</td>\n",
       "      <td>5.72%</td>\n",
       "      <td>Proveedores de amplio portafolio -  amplia cap...</td>\n",
       "    </tr>\n",
       "    <tr>\n",
       "      <th>3</th>\n",
       "      <td>3</td>\n",
       "      <td>8.50</td>\n",
       "      <td>1.00</td>\n",
       "      <td>1.00</td>\n",
       "      <td>7700.00</td>\n",
       "      <td>16912.00</td>\n",
       "      <td>0.00%</td>\n",
       "      <td>Proveedores de portafolio reducido -  amplia c...</td>\n",
       "    </tr>\n",
       "    <tr>\n",
       "      <th>4</th>\n",
       "      <td>4</td>\n",
       "      <td>1.20</td>\n",
       "      <td>1.00</td>\n",
       "      <td>1.00</td>\n",
       "      <td>744.56</td>\n",
       "      <td>744.56</td>\n",
       "      <td>0.00%</td>\n",
       "      <td>Proveedores de portafolio reducido -  baja cap...</td>\n",
       "    </tr>\n",
       "  </tbody>\n",
       "</table>\n",
       "</div>"
      ],
      "text/plain": [
       "   Cluster  Pedidos_atendidos  Volumen_portafolio  \\\n",
       "0        0              34.31                4.53   \n",
       "1        1              57.00                2.50   \n",
       "2        2              88.87               21.20   \n",
       "3        3               8.50                1.00   \n",
       "4        4               1.20                1.00   \n",
       "\n",
       "   Volumen_category_portafolio  Minimo_pedido  Maximo_pedido  \\\n",
       "0                         1.31         141.13         649.87   \n",
       "1                         2.00         574.00       28500.00   \n",
       "2                         2.38          83.50       11552.75   \n",
       "3                         1.00        7700.00       16912.00   \n",
       "4                         1.00         744.56         744.56   \n",
       "\n",
       "  Prom_variacion_sipsa                                        Descripción  \n",
       "0              0.0627%  Proveedores de portafolio reducido -  baja cap...  \n",
       "1              0.2107%  Proveedores de portafolio reducido -  amplia c...  \n",
       "2                5.72%  Proveedores de amplio portafolio -  amplia cap...  \n",
       "3                0.00%  Proveedores de portafolio reducido -  amplia c...  \n",
       "4                0.00%  Proveedores de portafolio reducido -  baja cap...  "
      ]
     },
     "execution_count": 33,
     "metadata": {},
     "output_type": "execute_result"
    }
   ],
   "source": [
    "# URL del archivo en GitHub\n",
    "url = 'https://github.com/demonory/PAAD_G17/raw/main/Fuentes/descripcion_clusters_proveedores.csv'\n",
    "\n",
    "# Descargar el archivo\n",
    "response = requests.get(url)\n",
    "with open('descripcion_clusters_proveedores.csv', 'wb') as file:\n",
    "    file.write(response.content)\n",
    "\n",
    "# Leer el archivo CSV\n",
    "df = pd.read_csv('descripcion_clusters_proveedores.csv', sep=';')\n",
    "df.columns = df.columns.str.replace(' ', '_')\n",
    "df.head()"
   ]
  },
  {
   "cell_type": "code",
   "execution_count": 34,
   "id": "60aa0eb2-c812-4c5c-8907-5c844e02c255",
   "metadata": {},
   "outputs": [
    {
     "name": "stdout",
     "output_type": "stream",
     "text": [
      "Esquema 'paad_g17' ya existe.\n"
     ]
    }
   ],
   "source": [
    "# Configuración de la conexión a la base de datos\n",
    "user = 'dmonroy3'\n",
    "password = 'SamuelAlejo2020%'\n",
    "host = 'localhost'\n",
    "database = 'paad_g17'\n",
    "schema = 'paad_g17'\n",
    "table_name = 'stg_descripcion_clusters_proveedores'\n",
    "\n",
    "# Crear la conexión\n",
    "engine = create_engine(f'mysql+mysqlconnector://{user}:{password}@{host}/{database}')\n",
    "\n",
    "# Verificar y crear el esquema si no existe\n",
    "try:\n",
    "    with engine.connect() as connection:\n",
    "        # Verificar si el esquema existe\n",
    "        result = connection.execute(text(f\"SELECT SCHEMA_NAME FROM information_schema.SCHEMATA WHERE SCHEMA_NAME = '{schema}'\"))\n",
    "        schema_exists = result.fetchone()\n",
    "\n",
    "        if not schema_exists:\n",
    "            # Si el esquema no existe, crearlo\n",
    "            connection.execute(text(f\"CREATE SCHEMA {schema}\"))\n",
    "            print(f\"Esquema '{schema}' creado correctamente.\")\n",
    "        else:\n",
    "            print(f\"Esquema '{schema}' ya existe.\")\n",
    "\n",
    "except SQLAlchemyError as e:\n",
    "    print(f\"Error al conectar a la base de datos o crear el esquema: {e}\")"
   ]
  },
  {
   "cell_type": "code",
   "execution_count": 35,
   "id": "5a4583f8-8158-42bd-ba88-bc0b0628f325",
   "metadata": {},
   "outputs": [
    {
     "name": "stdout",
     "output_type": "stream",
     "text": [
      "Tabla borrada correctamente, si existía.\n"
     ]
    }
   ],
   "source": [
    "# Borrar la tabla si existe\n",
    "try:\n",
    "    with engine.connect() as connection:\n",
    "        connection.execute(text(f\"DROP TABLE IF EXISTS {table_name}\"))\n",
    "    print(\"Tabla borrada correctamente, si existía.\")\n",
    "except SQLAlchemyError as e:\n",
    "    print(f\"Error al borrar la tabla: {e}\")\n"
   ]
  },
  {
   "cell_type": "code",
   "execution_count": 36,
   "id": "b0095d69-a7e4-4858-ad8b-57acce0568d5",
   "metadata": {},
   "outputs": [],
   "source": [
    "def map_dtype_to_mysql(dtype):\n",
    "    return 'VARCHAR(255)'"
   ]
  },
  {
   "cell_type": "code",
   "execution_count": 37,
   "id": "982e0bcc-657e-4c77-a2ad-be0d0d819116",
   "metadata": {},
   "outputs": [
    {
     "name": "stdout",
     "output_type": "stream",
     "text": [
      "Tabla creada correctamente.\n"
     ]
    }
   ],
   "source": [
    "# Obtener los tipos de datos adecuados para cada columna del DataFrame\n",
    "column_types = {column: map_dtype_to_mysql(dtype) for column, dtype in df.dtypes.items()}\n",
    "\n",
    "# Crear la consulta CREATE TABLE utilizando los tipos de datos adecuados\n",
    "create_table_query = f\"CREATE TABLE {table_name} (\"\n",
    "for column, column_type in column_types.items():\n",
    "    create_table_query += f\"\\n{column} {column_type},\"\n",
    "create_table_query = create_table_query.rstrip(',') + \"\\n)\"\n",
    "\n",
    "# Ejecutar la consulta para crear la tabla\n",
    "try:\n",
    "    with engine.connect() as connection:\n",
    "        connection.execute(text(create_table_query))\n",
    "    print(\"Tabla creada correctamente.\")\n",
    "except SQLAlchemyError as e:\n",
    "    print(f\"Error al crear la tabla: {e}\")"
   ]
  },
  {
   "cell_type": "code",
   "execution_count": 38,
   "id": "a26e0ded-4581-4311-8b17-fc95a380cf4c",
   "metadata": {},
   "outputs": [
    {
     "name": "stdout",
     "output_type": "stream",
     "text": [
      "5 datos insertados correctamente.\n"
     ]
    }
   ],
   "source": [
    "# Ahora, insertar los datos en la tabla\n",
    "try:\n",
    "    num_rows_inserted = df.shape[0]  # Obtener el número de filas en el DataFrame\n",
    "    df.to_sql(table_name, con=engine, if_exists='append', index=False)\n",
    "    print(f\"{num_rows_inserted} datos insertados correctamente.\")\n",
    "except SQLAlchemyError as e:\n",
    "    print(f\"Error al insertar datos en la tabla: {e}\")"
   ]
  }
 ],
 "metadata": {
  "kernelspec": {
   "display_name": "Python 3 (ipykernel)",
   "language": "python",
   "name": "python3"
  },
  "language_info": {
   "codemirror_mode": {
    "name": "ipython",
    "version": 3
   },
   "file_extension": ".py",
   "mimetype": "text/x-python",
   "name": "python",
   "nbconvert_exporter": "python",
   "pygments_lexer": "ipython3",
   "version": "3.11.7"
  }
 },
 "nbformat": 4,
 "nbformat_minor": 5
}
